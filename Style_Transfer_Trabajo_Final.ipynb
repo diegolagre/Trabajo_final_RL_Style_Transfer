{
 "cells": [
  {
   "cell_type": "markdown",
   "id": "b882bdfe-0367-4d9b-97c6-422664506c43",
   "metadata": {},
   "source": [
    "# Style Transfer\n",
    "\n",
    "<img src=\"https://i0.wp.com/chelseatroy.com/wp-content/uploads/2018/12/neural_style_transfer.png?resize=768%2C311&ssl=1\">\n",
    "\n",
    "La idea de este trabajo final es reproducir el siguiente paper:\n",
    "\n",
    "https://arxiv.org/pdf/1508.06576.pdf\n",
    "\n",
    "El objetivo es transferir el estilo de una imagen dada a otra imagen distinta. \n",
    "\n",
    "Como hemos visto en clase, las primeras capas de una red convolucional se activan ante la presencia de ciertos patrones vinculados a detalles muy pequeños.\n",
    "\n",
    "A medida que avanzamos en las distintas capas de una red neuronal convolucional, los filtros se van activando a medida que detectan patrones de formas cada vez mas complejos.\n",
    "\n",
    "Lo que propone este paper es asignarle a la activación de las primeras capas de una red neuronal convolucional (por ejemplo VGG19) la definición del estilo y a la activación de las últimas capas de la red neuronal convolucional, la definición del contenido.\n",
    "\n",
    "La idea de este paper es, a partir de dos imágenes (una que aporte el estilo y otra que aporte el contenido) analizar cómo es la activación de las primeras capas para la imagen que aporta el estilo y cómo es la activación de las últimas capas de la red convolucional para la imagen que aporta el contenido. A partir de esto se intentará sintetizar una imagen que active los filtros de las primeras capas que se activaron con la imagen que aporta el estilo y los filtros de las últimas capas que se activaron con la imagen que aporta el contenido.\n",
    "\n",
    "A este procedimiento se lo denomina neural style transfer.\n",
    "\n",
    "# En este trabajo se deberá leer el paper mencionado y en base a ello, entender la implementación que se muestra a continuación y contestar preguntas sobre la misma.\n",
    "\n",
    "# Una metodología posible es hacer una lectura rápida del paper (aunque esto signifique no entender algunos detalles del mismo) y luego ir analizando el código y respondiendo las preguntas. A medida que se planteen las preguntas, volviendo a leer secciones específicas del paper terminará de entender los detalles que pudieran haber quedado pendientes.\n",
    "\n",
    "Lo primero que haremos es cargar dos imágenes, una que aporte el estilo y otra que aporte el contenido. A tal fin utilizaremos imágenes disponibles en la web."
   ]
  },
  {
   "cell_type": "code",
   "execution_count": 6,
   "id": "c02aec7c-8934-488f-9723-c329c7630126",
   "metadata": {},
   "outputs": [],
   "source": [
    "# Imagen para estilo\n",
    "# !wget https://upload.wikimedia.org/wikipedia/commons/5/52/La_noche_estrellada1.jpg\n",
    "\n",
    "# Imagen para contenido\n",
    "# !wget https://upload.wikimedia.org/wikipedia/commons/thumb/f/f4/Neckarfront_Tübingen_Mai_2017.jpg/775px-Neckarfront_T%C3%BCbingen_Mai_2017.jpg\n",
    "\n",
    "# Creamos el directorio para los archivos de salida\n",
    "# !mkdir \\content\\output\n",
    "\n"
   ]
  },
  {
   "cell_type": "code",
   "execution_count": 7,
   "id": "ce39a0c7-4535-4096-a8ac-97d493285364",
   "metadata": {},
   "outputs": [],
   "source": [
    "from keras.preprocessing.image import load_img, save_img, img_to_array\n",
    "import numpy as np\n",
    "from scipy.optimize import fmin_l_bfgs_b\n",
    "import time\n",
    "import argparse\n",
    "\n",
    "\n",
    "from keras.applications import vgg19\n",
    "from keras import backend as K\n",
    "from pathlib import Path\n",
    "# tensorflow.compat.v1.disable_eager_execution()\n",
    "\n",
    "import tensorflow as tf\n",
    "tf.compat.v1.disable_eager_execution()"
   ]
  },
  {
   "cell_type": "code",
   "execution_count": 8,
   "id": "3a2669ba-8e79-45d2-a951-e1146fb756ca",
   "metadata": {},
   "outputs": [],
   "source": [
    "# Definimos las imagenes que vamos a utilizar, y el directorio de salida\n",
    "\n",
    "base_image_path = Path(\"C:\\\\Users\\\\dlagreca\\\\content\\\\775px-Neckarfront_Tübingen_Mai_2017.jpg\")\n",
    "style_reference_image_path = Path(\"C:\\\\Users\\\\dlagreca\\\\content\\\\La_noche_estrellada1.jpg\")\n",
    "result_prefix = Path(\"C:\\\\Users\\\\dlagreca\\\\content\\\\output\")\n",
    "iterations = 100\n"
   ]
  },
  {
   "cell_type": "markdown",
   "id": "a271554a-5b50-47e1-8830-831bf9e48683",
   "metadata": {},
   "source": [
    "# 1) En base a lo visto en el paper ¿Qué significan los parámetros definidos en la siguiente celda?\n",
    "\n",
    "Respuesta: Son los diferentes pesos de las funciones de costo. Es la relación entre asignar mas importancia al style o al content (content_weight=Alpha, style_weight=Beta y Total_Variation_weight= alpha/beta)\n"
   ]
  },
  {
   "cell_type": "code",
   "execution_count": 9,
   "id": "4c851901-a1ff-4454-bca1-a726937e8224",
   "metadata": {},
   "outputs": [],
   "source": [
    "total_variation_weight = 0.018\n",
    "style_weight = 10\n",
    "content_weight = 0.025"
   ]
  },
  {
   "cell_type": "code",
   "execution_count": 10,
   "id": "2da3c485-89a4-4b1d-aee3-2199f6c561c3",
   "metadata": {},
   "outputs": [],
   "source": [
    "# Definimos el tamaño de las imágenes a utilizar\n",
    "width, height = load_img(base_image_path).size\n",
    "img_nrows = 400\n",
    "img_ncols = int(width * img_nrows / height)"
   ]
  },
  {
   "cell_type": "markdown",
   "id": "2d18b583-6001-4e15-bccc-9fb83fc31ef4",
   "metadata": {},
   "source": [
    "# 2) Explicar qué hace la siguiente celda. En especial las últimas dos líneas de la función antes del return. ¿Por qué?\n",
    "\n",
    "Ayuda: https://keras.io/applications/\n",
    "\n",
    "Respuesta: La celda abre la imagen y la transforma en un tensor. np.expand inserta un eje. vgg19.preprocess_input prepara el tensor como lo necesita VGG19 \"will convert the input images from RGB to BGR, then will zero-center each color channel with respect to the ImageNet dataset, without scaling\""
   ]
  },
  {
   "cell_type": "code",
   "execution_count": 11,
   "id": "d7939094-495c-44f1-964c-0ffe285297fb",
   "metadata": {},
   "outputs": [],
   "source": [
    "def preprocess_image(image_path):\n",
    "    img = load_img(image_path, target_size=(img_nrows, img_ncols))\n",
    "    img = img_to_array(img)\n",
    "    img = np.expand_dims(img, axis=0)\n",
    "    img = vgg19.preprocess_input(img)\n",
    "    return img"
   ]
  },
  {
   "cell_type": "markdown",
   "id": "045cd5ab-4486-4543-803b-9c041424997c",
   "metadata": {},
   "source": [
    "# 3) Habiendo comprendido lo que hace la celda anterior, explique de manera muy concisa qué hace la siguiente celda. ¿Qué relación tiene con la celda anterior?\n",
    "\n",
    "Respuesta: convierte un tensor en una imagen.\n",
    "\n",
    "\"Zero-centeringby removingthemean pixel value from ImageNet. This reverses a transformation doneby vgg19.preprocess_input.\" (Deep Learning with Python)"
   ]
  },
  {
   "cell_type": "code",
   "execution_count": 12,
   "id": "5a15f5b2-0689-4115-a6db-26ff632cee19",
   "metadata": {},
   "outputs": [],
   "source": [
    "def deprocess_image(x):\n",
    "    x = x.reshape((img_nrows, img_ncols, 3))\n",
    "    # Remove zero-center by mean pixel\n",
    "    x[:, :, 0] += 103.939\n",
    "    x[:, :, 1] += 116.779\n",
    "    x[:, :, 2] += 123.68\n",
    "    # 'BGR'->'RGB'\n",
    "    x = x[:, :, ::-1]\n",
    "    x = np.clip(x, 0, 255).astype('uint8')\n",
    "    return x"
   ]
  },
  {
   "cell_type": "code",
   "execution_count": 13,
   "id": "4502cd55-39dd-49b3-93c2-e6b7091b4400",
   "metadata": {},
   "outputs": [],
   "source": [
    "# get tensor representations of our images\n",
    "# K.variable convierte un numpy array en un tensor, para \n",
    "base_image = K.variable(preprocess_image(base_image_path))\n",
    "style_reference_image = K.variable(preprocess_image(style_reference_image_path))"
   ]
  },
  {
   "cell_type": "code",
   "execution_count": 14,
   "id": "20895823-bbb5-4318-b2f1-1a7a540d4d55",
   "metadata": {},
   "outputs": [],
   "source": [
    "combination_image = K.placeholder((1, img_nrows, img_ncols, 3))"
   ]
  },
  {
   "cell_type": "markdown",
   "id": "8e343ed4-dd10-4427-b49a-3f88dc2e893a",
   "metadata": {},
   "source": [
    "Aclaración:\n",
    "\n",
    "La siguiente celda sirve para procesar las tres imagenes (contenido, estilo y salida) en un solo batch."
   ]
  },
  {
   "cell_type": "code",
   "execution_count": 15,
   "id": "035463c4-c646-4d77-948a-563be29cd136",
   "metadata": {},
   "outputs": [],
   "source": [
    "# combine the 3 images into a single Keras tensor\n",
    "input_tensor = K.concatenate([base_image,\n",
    "                              style_reference_image,\n",
    "                              combination_image], axis=0)"
   ]
  },
  {
   "cell_type": "code",
   "execution_count": 16,
   "id": "82050a31-28ac-41f6-a5bb-1b5d29cc7d62",
   "metadata": {},
   "outputs": [
    {
     "name": "stdout",
     "output_type": "stream",
     "text": [
      "Model loaded.\n"
     ]
    }
   ],
   "source": [
    "# build the VGG19 network with our 3 images as input\n",
    "# the model will be loaded with pre-trained ImageNet weights\n",
    "model = vgg19.VGG19(input_tensor=input_tensor,\n",
    "                    weights='imagenet', include_top=False)\n",
    "print('Model loaded.')\n",
    "\n",
    "# get the symbolic outputs of each \"key\" layer (we gave them unique names).\n",
    "outputs_dict = dict([(layer.name, layer.output) for layer in model.layers])"
   ]
  },
  {
   "attachments": {
    "fd26c9e5-3b38-41b3-835b-0327420777cc.png": {
     "image/png": "[encoded data removed]"
    }
   },
   "cell_type": "markdown",
   "id": "a32e894c-9a74-4f9a-b6eb-16d29647fd92",
   "metadata": {},
   "source": [
    "# 4) En la siguientes celdas:\n",
    "\n",
    "- ¿Qué es la matriz de Gram?¿Para qué se usa? \n",
    "\n",
    "En álgebra lineal, la matriz de Gram de un conjunto de vectores v_1,\\dots, v_n en un espacio prehilbertiano, es la matriz que define el producto escalar, cuyas entradas vienen dadas por Gij\n",
    "Se usa para construir la representación del estilo (Artwork). \" at computes the correlations between the different filter responses, where the expectation is\n",
    "taken over the spatial extend of the input image\". \n",
    "\n",
    "\"This inner product can be understood as representing a map of the correlations between the layer’s features. These feature correlations capture the statistics of the patterns of a particular spatial scale, which empirically correspond to the appearance of the textures found at this scale\" (Deep Learning with Python)\n",
    "\n",
    "![image.png](attachment:fd26c9e5-3b38-41b3-835b-0327420777cc.png)\n",
    "- ¿Por qué se permutan las dimensiones de x?\n",
    "Para poder obtener el producto punto"
   ]
  },
  {
   "cell_type": "code",
   "execution_count": 17,
   "id": "3ef6da57-e70c-4e9e-86d9-45e6d66d6b17",
   "metadata": {},
   "outputs": [],
   "source": [
    "def gram_matrix(x):\n",
    "    features = K.batch_flatten(K.permute_dimensions(x, (2, 0, 1)))\n",
    "    gram = K.dot(features, K.transpose(features))\n",
    "    return gram"
   ]
  },
  {
   "cell_type": "markdown",
   "id": "2e0f5d7a-4ae0-473b-8dc7-738e20694eae",
   "metadata": {},
   "source": [
    "# 5) Losses:\n",
    "\n",
    "Explicar qué mide cada una de las losses en las siguientes tres celdas.\n",
    "\n",
    "Rta:\n",
    "Style_loss:\n",
    "\n",
    "es el MSE entre la gram matrix de la imagen original y la imagen generada. mantiene el estilo de la imagen original. el producto interno de la matriz de Gram se entiende como la representación de las correlaciones de los diferentes layers.\n",
    "\n",
    "Content_loss: \n",
    "\n",
    "la loss del contenido es la suma de cuadrados entre la base y la imagen de destino. \n",
    "\n",
    "\"A good candidate for content loss is thus the L2 norm between the activations of an upper layer in a pretrained convnet, computed over the target image, and the activations of the same layer computed over the generated image. This guarantees that, as seen from the upper layer, the generated image will look similar to the original target image.\" (Deep Learning with Python)\n",
    "\n",
    "Total_Variation_loss:\n",
    "\n",
    "Minimiza localmente la variación comparando efectivamente píxeles uno al lado del otro y minimizando la variación. Esto mantiene la imagen resultante algo borrosa, pero evita grandes saltos en los píxeles y mantiene la imagen localmente coherente.\n",
    "\n",
    "\"To these two loss components, you add a third: the total variation loss, which operates on the pixels of the generated combination image. It encourages spatial continuity in\n",
    "the generated image, thus avoiding overly pixelated results. You can interpret it as a regularization loss.\" (Deep Learning with Python)\n",
    "\n"
   ]
  },
  {
   "cell_type": "code",
   "execution_count": 18,
   "id": "0eeede51-3cfd-4653-8435-6c8a77876390",
   "metadata": {},
   "outputs": [],
   "source": [
    "def style_loss(style, combination):\n",
    "    assert K.ndim(style) == 3\n",
    "    assert K.ndim(combination) == 3\n",
    "    S = gram_matrix(style)\n",
    "    C = gram_matrix(combination)\n",
    "    channels = 3\n",
    "    size = img_nrows * img_ncols\n",
    "    return K.sum(K.square(S - C)) / (4.0 * (channels ** 2) * (size ** 2))"
   ]
  },
  {
   "cell_type": "code",
   "execution_count": 19,
   "id": "e63a77e3-79b6-4059-aa4e-c96273062af6",
   "metadata": {},
   "outputs": [],
   "source": [
    "def content_loss(base, combination):\n",
    "    return K.sum(K.square(combination - base))\n"
   ]
  },
  {
   "cell_type": "code",
   "execution_count": 20,
   "id": "b7c9b762-569f-4441-9f81-b3bd8ded3973",
   "metadata": {},
   "outputs": [],
   "source": [
    "def total_variation_loss(x):\n",
    "    assert K.ndim(x) == 4\n",
    "    a = K.square(\n",
    "        x[:, :img_nrows - 1, :img_ncols - 1, :] - x[:, 1:, :img_ncols - 1, :])\n",
    "    b = K.square(\n",
    "        x[:, :img_nrows - 1, :img_ncols - 1, :] - x[:, :img_nrows - 1, 1:, :])\n",
    "    return K.sum(K.pow(a + b, 1.25))\n"
   ]
  },
  {
   "cell_type": "code",
   "execution_count": 21,
   "id": "a67a4388-3681-4a09-b878-5b75ba547f28",
   "metadata": {},
   "outputs": [],
   "source": [
    "# Armamos la loss total\n",
    "loss = K.variable(0.0)\n",
    "layer_features = outputs_dict['block5_conv2']\n",
    "base_image_features = layer_features[0, :, :, :]\n",
    "combination_features = layer_features[2, :, :, :]\n",
    "loss = loss + content_weight * content_loss(base_image_features,\n",
    "                                            combination_features)\n",
    "\n",
    "feature_layers = ['block1_conv1', 'block2_conv1',\n",
    "                  'block3_conv1', 'block4_conv1',\n",
    "                  'block5_conv1']\n",
    "for layer_name in feature_layers:\n",
    "    layer_features = outputs_dict[layer_name]\n",
    "    style_reference_features = layer_features[1, :, :, :] \n",
    "    combination_features = layer_features[2, :, :, :]\n",
    "    sl = style_loss(style_reference_features, combination_features)\n",
    "    loss = loss + (style_weight / len(feature_layers)) * sl\n",
    "loss = loss + total_variation_weight * total_variation_loss(combination_image)"
   ]
  },
  {
   "cell_type": "code",
   "execution_count": 22,
   "id": "ba7cc8dc-dc67-49cf-ad79-4152dd8813e9",
   "metadata": {},
   "outputs": [],
   "source": [
    "grads = K.gradients(loss, combination_image)\n",
    "\n",
    "outputs = [loss]\n",
    "if isinstance(grads, (list, tuple)):\n",
    "    outputs += grads\n",
    "else:\n",
    "    outputs.append(grads)\n",
    "\n",
    "f_outputs = K.function([combination_image], outputs)"
   ]
  },
  {
   "cell_type": "markdown",
   "id": "7b46b26c-f451-4232-a529-b1cbd81add94",
   "metadata": {},
   "source": [
    "# 6) Explique el propósito de las siguientes tres celdas. ¿Qué hace la función fmin_l_bfgs_b? ¿En qué se diferencia con la implementación del paper? ¿Se puede utilizar alguna alternativa?\n",
    "\n",
    "Respuesta: Scipy.optimize requiere dos funciones separadas de loss y grad, por lo que en lugar de calcularlas dos veces, almacenamos en caché los valores en un objeto Evaluator. Usamos el mismo objeto para almacenar el valor de dónde estamos entre las dos imágenes de estilo.\n",
    "\n",
    "\"It would be inefficient to compute the value of the loss function and the value of the gradients independently, because doing so would lead to a lot of redundant computation between the two; the process would be almost twice as slow as computing them jointly. To bypass this, you’ll set up a Python class named Evaluator that computes\n",
    "both the loss value and the gradients value at once, returns the loss value when called the first time, and caches the gradients for the next call.\" (Deep Learning with Python)\n",
    "\n",
    "usamos el algoritmo L-BFGS para el descenso por gradiente.\n",
    "\n",
    "\"Finally, you’ll set up the gradient-descent process. In the original Gatys et al. paper,\n",
    "optimization is performed using the L-BFGS algorithm\" (Deep Learning with Python)\n"
   ]
  },
  {
   "cell_type": "code",
   "execution_count": 23,
   "id": "190947e3-235c-41d0-ac63-240c319acf6c",
   "metadata": {},
   "outputs": [],
   "source": [
    "def eval_loss_and_grads(x):\n",
    "    x = x.reshape((1, img_nrows, img_ncols, 3))\n",
    "    outs = f_outputs([x])\n",
    "    loss_value = outs[0]\n",
    "    if len(outs[1:]) == 1:\n",
    "        grad_values = outs[1].flatten().astype('float64')\n",
    "    else:\n",
    "        grad_values = np.array(outs[1:]).flatten().astype('float64')\n",
    "    return loss_value, grad_values\n",
    "\n",
    "# this Evaluator class makes it possible\n",
    "# to compute loss and gradients in one pass\n",
    "# while retrieving them via two separate functions,\n",
    "# \"loss\" and \"grads\". This is done because scipy.optimize\n",
    "# requires separate functions for loss and gradients,\n",
    "# but computing them separately would be inefficient."
   ]
  },
  {
   "cell_type": "code",
   "execution_count": 24,
   "id": "193452b7-6241-4f32-8790-09dabd8fff7e",
   "metadata": {},
   "outputs": [],
   "source": [
    "class Evaluator(object):\n",
    "\n",
    "    def __init__(self):\n",
    "        self.loss_value = None\n",
    "        self.grads_values = None\n",
    "\n",
    "    def loss(self, x):\n",
    "        assert self.loss_value is None\n",
    "        loss_value, grad_values = eval_loss_and_grads(x)\n",
    "        self.loss_value = loss_value\n",
    "        self.grad_values = grad_values\n",
    "        return self.loss_value\n",
    "\n",
    "    def grads(self, x):\n",
    "        assert self.loss_value is not None\n",
    "        grad_values = np.copy(self.grad_values)\n",
    "        self.loss_value = None\n",
    "        self.grad_values = None\n",
    "        return grad_values"
   ]
  },
  {
   "cell_type": "markdown",
   "id": "7d1be093-8063-4c33-a607-38ee83660fbc",
   "metadata": {},
   "source": [
    "# 7) Ejecute la siguiente celda y observe las imágenes de salida en cada iteración."
   ]
  },
  {
   "cell_type": "code",
   "execution_count": null,
   "id": "eb6f2cb0-49bf-405c-95b2-2bf73be148be",
   "metadata": {},
   "outputs": [],
   "source": [
    "evaluator = Evaluator()\n",
    "\n",
    "# run scipy-based optimization (L-BFGS) over the pixels of the generated image\n",
    "# so as to minimize the neural style loss\n",
    "x = preprocess_image(base_image_path)\n",
    "\n",
    "for i in range(iterations):\n",
    "    print('Start of iteration', i)\n",
    "    start_time = time.time()\n",
    "    x, min_val, info = fmin_l_bfgs_b(evaluator.loss, x.flatten(),\n",
    "                                     fprime=evaluator.grads, maxfun=20)\n",
    "    print('Current loss value:', min_val)\n",
    "    # save current generated image\n",
    "    img = deprocess_image(x.copy())\n",
    "    fname = result_prefix / ('output_at_iteration_%d.png' % i)\n",
    "    save_img(fname, img)\n",
    "    end_time = time.time()\n",
    "    print('Image saved as', fname)\n",
    "    print('Iteration %d completed in %ds' % (i, end_time - start_time))"
   ]
  },
  {
   "cell_type": "markdown",
   "id": "fe0744b5-1802-4f80-819d-46b60660e252",
   "metadata": {},
   "source": [
    "# 8) Generar imágenes para distintas combinaciones de pesos de las losses. Explicar las diferencias. (Adjuntar las imágenes generadas como archivos separados.)\n",
    "\n",
    "Respuesta:\n",
    "\n",
    "En el adjunto están las carpetas con cada corrida. En cada corrida se utilizaron los siguientes pesos para las losses\n",
    "\n",
    "V1:\n",
    "total_variation_weight = 0.1\n",
    "style_weight = 10\n",
    "content_weight = 1\n",
    "\n",
    "V2:\n",
    "total_variation_weight = 0.01\n",
    "style_weight = 1\n",
    "content_weight = 10\n",
    "\n",
    "V3:\n",
    "total_variation_weight = 0.00001\n",
    "style_weight = 1\n",
    "content_weight = 100\n",
    "\n",
    "V4:\n",
    "total_variation_weight = 0.5\n",
    "style_weight = 10\n",
    "content_weight = 1\n",
    "\n",
    "V5:\n",
    "total_variation_weight = 0.1\n",
    "style_weight = 10\n",
    "content_weight = 1\n",
    "\n",
    "V6:\n",
    "total_variation_weight = 0.002\n",
    "style_weight = 0.002\n",
    "content_weight = 1\n",
    "\n",
    "V7:\n",
    "total_variation_weight = 0.002\n",
    "style_weight = 0.002\n",
    "content_weight = 10\n",
    "\n",
    "V8:\n",
    "total_variation_weight = 0.002\n",
    "style_weight = 0.002\n",
    "content_weight = 1\n",
    "\n",
    "V9:\n",
    "total_variation_weight = 0.002\n",
    "style_weight = 0.002\n",
    "content_weight = 0.00006\n",
    "\n",
    "V10:\n",
    "total_variation_weight = 0.002\n",
    "style_weight = 0.00000002\n",
    "content_weight = 0.6\n",
    "\n",
    "V11:\n",
    "total_variation_weight = 0.002\n",
    "style_weight = 0.00000002\n",
    "content_weight = 0.6\n",
    "\n",
    "V12:\n",
    "total_variation_weight = 10\n",
    "style_weight = 0.00000002\n",
    "content_weight = 0.6\n",
    "\n",
    "V13:\n",
    "total_variation_weight = 0.002\n",
    "style_weight = 0.002\n",
    "content_weight = 0.6\n",
    "\n",
    "V14:\n",
    "total_variation_weight = 10\n",
    "style_weight = 100\n",
    "content_weight = 10\n",
    "\n",
    "V15:\n",
    "total_variation_weight = 10\n",
    "style_weight = 100\n",
    "content_weight = 10\n",
    "\n",
    "V16:\n",
    "total_variation_weight = 0.018\n",
    "style_weight = 10\n",
    "content_weight = 0.025\n",
    "\n",
    "# 9) Cambiar las imágenes de contenido y estilo por unas elegidas por usted. Adjuntar el resultado.\n",
    "\n",
    "Respuesta:\n",
    "\n",
    "Las dos primeras carpetas son con las imágenes iniciales, las demás son con otras imágenes\n"
   ]
  },
  {
   "cell_type": "code",
   "execution_count": null,
   "id": "d994b375-8d8f-4ced-96a5-0728d24cc0d6",
   "metadata": {},
   "outputs": [],
   "source": []
  }
 ],
 "metadata": {
  "kernelspec": {
   "display_name": "Python 3",
   "language": "python",
   "name": "python3"
  },
  "language_info": {
   "codemirror_mode": {
    "name": "ipython",
    "version": 3
   },
   "file_extension": ".py",
   "mimetype": "text/x-python",
   "name": "python",
   "nbconvert_exporter": "python",
   "pygments_lexer": "ipython3",
   "version": "3.8.8"
  }
 },
 "nbformat": 4,
 "nbformat_minor": 5
}
